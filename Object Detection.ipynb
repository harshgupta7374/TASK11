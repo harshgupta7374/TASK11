{
  "nbformat": 4,
  "nbformat_minor": 0,
  "metadata": {
    "colab": {
      "name": "Untitled",
      "provenance": []
    },
    "kernelspec": {
      "name": "python3",
      "display_name": "Python 3"
    },
    "language_info": {
      "name": "python"
    },
    "accelerator": "GPU"
  },
  "cells": [
    {
      "cell_type": "markdown",
      "metadata": {
        "id": "qbBy61qhfKcj"
      },
      "source": [
        "\n",
        "Task 13\n",
        "\n",
        "Registration ID : SIRSS2130\n",
        "\n",
        "HARSHIT GUPTA"
      ]
    },
    {
      "cell_type": "code",
      "metadata": {
        "id": "rrNWR-wQb_Wg"
      },
      "source": [
        "from keras.datasets import cifar10\n",
        "\n",
        "import matplotlib.pyplot as plt\n",
        "from keras import models,layers\n",
        "from tensorflow.keras.utils import to_categorical\n",
        "from keras import optimizers"
      ],
      "execution_count": 1,
      "outputs": []
    },
    {
      "cell_type": "code",
      "metadata": {
        "colab": {
          "base_uri": "https://localhost:8080/"
        },
        "id": "WHA8XHDqcEIZ",
        "outputId": "0e0c3c67-285c-497a-b543-3529353b97b6"
      },
      "source": [
        "(xtrain, ytrain), (xtest, ytest) = cifar10.load_data()\n",
        "print(xtrain.shape)\n",
        "print(xtest.shape)\n",
        "print(ytrain.shape)\n",
        "print(ytest.shape)"
      ],
      "execution_count": 2,
      "outputs": [
        {
          "output_type": "stream",
          "name": "stdout",
          "text": [
            "Downloading data from https://www.cs.toronto.edu/~kriz/cifar-10-python.tar.gz\n",
            "170500096/170498071 [==============================] - 6s 0us/step\n",
            "170508288/170498071 [==============================] - 6s 0us/step\n",
            "(50000, 32, 32, 3)\n",
            "(10000, 32, 32, 3)\n",
            "(50000, 1)\n",
            "(10000, 1)\n"
          ]
        }
      ]
    },
    {
      "cell_type": "code",
      "metadata": {
        "id": "vijEtvoLcKKa"
      },
      "source": [
        "xtrain = xtrain.astype('float32')\n",
        "xtest = xtest.astype('float32')\n",
        "# scale the images\n",
        "xtrain /= 255  # ths is eqvalent to xtrain = xtrain/255 \n",
        "xtest /= 255\n",
        "ytrain = to_categorical(ytrain)\n",
        "ytest = to_categorical(ytest)"
      ],
      "execution_count": 3,
      "outputs": []
    },
    {
      "cell_type": "code",
      "metadata": {
        "id": "Bizzq5jvcN72"
      },
      "source": [
        "labels=['airplane', 'automobile','bird', 'cat', 'deer', 'dog', 'frog', 'horse', 'ship', 'truck']"
      ],
      "execution_count": 4,
      "outputs": []
    },
    {
      "cell_type": "code",
      "metadata": {
        "colab": {
          "base_uri": "https://localhost:8080/",
          "height": 284
        },
        "id": "Fr7K-nojcSij",
        "outputId": "c068d9b5-2973-46cb-a433-701a7af68030"
      },
      "source": [
        "print(ytrain[2000])\n",
        "plt.imshow(xtrain[2000])\n",
        "plt.show()"
      ],
      "execution_count": 5,
      "outputs": [
        {
          "output_type": "stream",
          "name": "stdout",
          "text": [
            "[0. 0. 0. 0. 0. 0. 0. 1. 0. 0.]\n"
          ]
        },
        {
          "output_type": "display_data",
          "data": {
            "image/png": "[encoded data removed]",
            "text/plain": [
              "<Figure size 432x288 with 1 Axes>"
            ]
          },
          "metadata": {
            "needs_background": "light"
          }
        }
      ]
    },
    {
      "cell_type": "code",
      "metadata": {
        "id": "WLBsrjaEcYd6"
      },
      "source": [
        "from datetime import datetime\n",
        "def timer(start_time=None):\n",
        "    if not start_time:\n",
        "        print(datetime.now())\n",
        "        start_time = datetime.now()\n",
        "        return start_time\n",
        "    elif start_time:\n",
        "        thour, temp_sec = divmod((datetime.now() - start_time).total_seconds(), 3600)\n",
        "        tmin, tsec = divmod(temp_sec, 60)\n",
        "        print('Time taken: %i hours %i minutes and %s seconds.' % (thour, tmin, round(tsec, 2)))\n"
      ],
      "execution_count": 6,
      "outputs": []
    },
    {
      "cell_type": "code",
      "metadata": {
        "colab": {
          "base_uri": "https://localhost:8080/"
        },
        "id": "rYSLMRzvcdJb",
        "outputId": "05164cc9-082d-4b3f-d89f-8e3bcb78e80d"
      },
      "source": [
        "\n",
        "print(xtrain[10])"
      ],
      "execution_count": 7,
      "outputs": [
        {
          "output_type": "stream",
          "name": "stdout",
          "text": [
            "[[[0.20784314 0.25490198 0.20784314]\n",
            "  [0.21176471 0.24705882 0.20392157]\n",
            "  [0.21960784 0.23529412 0.19607843]\n",
            "  ...\n",
            "  [0.18431373 0.2        0.19607843]\n",
            "  [0.16078432 0.1764706  0.17254902]\n",
            "  [0.09411765 0.10980392 0.10588235]]\n",
            "\n",
            " [[0.18039216 0.23137255 0.16078432]\n",
            "  [0.20784314 0.24313726 0.1764706 ]\n",
            "  [0.21176471 0.23137255 0.17254902]\n",
            "  ...\n",
            "  [0.16470589 0.18039216 0.1764706 ]\n",
            "  [0.15294118 0.16862746 0.16470589]\n",
            "  [0.10980392 0.1254902  0.12156863]]\n",
            "\n",
            " [[0.1764706  0.23137255 0.14901961]\n",
            "  [0.19607843 0.23529412 0.16078432]\n",
            "  [0.18039216 0.20392157 0.13333334]\n",
            "  ...\n",
            "  [0.14901961 0.16470589 0.16078432]\n",
            "  [0.14117648 0.15686275 0.15294118]\n",
            "  [0.11372549 0.12941177 0.1254902 ]]\n",
            "\n",
            " ...\n",
            "\n",
            " [[0.2784314  0.3254902  0.25882354]\n",
            "  [0.2901961  0.3254902  0.25882354]\n",
            "  [0.3137255  0.33333334 0.2627451 ]\n",
            "  ...\n",
            "  [0.2        0.21176471 0.12941177]\n",
            "  [0.18039216 0.19215687 0.13333334]\n",
            "  [0.19215687 0.19607843 0.16078432]]\n",
            "\n",
            " [[0.29411766 0.32156864 0.2627451 ]\n",
            "  [0.30980393 0.33333334 0.27058825]\n",
            "  [0.31764707 0.33333334 0.2627451 ]\n",
            "  ...\n",
            "  [0.23921569 0.25490198 0.16078432]\n",
            "  [0.2509804  0.2627451  0.1882353 ]\n",
            "  [0.1882353  0.19607843 0.16078432]]\n",
            "\n",
            " [[0.33333334 0.3254902  0.2784314 ]\n",
            "  [0.33333334 0.32941177 0.2784314 ]\n",
            "  [0.3372549  0.3372549  0.27450982]\n",
            "  ...\n",
            "  [0.23921569 0.25490198 0.15294118]\n",
            "  [0.2509804  0.2627451  0.18039216]\n",
            "  [0.19215687 0.19607843 0.16078432]]]\n"
          ]
        }
      ]
    },
    {
      "cell_type": "code",
      "metadata": {
        "colab": {
          "base_uri": "https://localhost:8080/"
        },
        "id": "wzE0hNEMciE9",
        "outputId": "5cefb52d-e447-4e61-d983-1ddcea555b7b"
      },
      "source": [
        "ytrain[10]\n"
      ],
      "execution_count": 8,
      "outputs": [
        {
          "output_type": "execute_result",
          "data": {
            "text/plain": [
              "array([0., 0., 0., 0., 1., 0., 0., 0., 0., 0.], dtype=float32)"
            ]
          },
          "metadata": {},
          "execution_count": 8
        }
      ]
    },
    {
      "cell_type": "code",
      "metadata": {
        "id": "IRJd8pGtcmt0"
      },
      "source": [
        "model = models.Sequential()\n",
        "\n",
        "model.add(layers.Conv2D(32, (3, 3), padding='same', activation='relu', input_shape=(32,32,3)))\n",
        "model.add(layers.Conv2D(32,(3,3), padding='same',activation='relu'))\n",
        "model.add(layers.MaxPooling2D(pool_size=2)) \n",
        "model.add(layers.Dropout(0.2))\n",
        "\n",
        "model.add(layers.Conv2D(64,(3,3), padding='same',activation='relu'))\n",
        "model.add(layers.Conv2D(128,(3,3), padding='same',activation='relu'))\n",
        "model.add(layers.MaxPooling2D(pool_size=2)) \n",
        "model.add(layers.Dropout(0.2))\n",
        "\n",
        "model.add(layers.Conv2D(64,(3,3), padding='same',activation='relu'))\n",
        "model.add(layers.Conv2D(64,(3,3), padding='same',activation='relu'))\n",
        "model.add(layers.MaxPooling2D(pool_size=2)) \n",
        "model.add(layers.Dropout(0.2))\n",
        "\n",
        "#Classification layers\n",
        "model.add(layers.Flatten())\n",
        "model.add(layers.Dense(512,activation='relu'))\n",
        "model.add(layers.Dropout(0.2))\n",
        "model.add(layers.Dense(64,activation='relu'))\n",
        "model.add(layers.Dropout(0.2))\n",
        "model.add(layers.Dense(10,activation='softmax'))  # this is the actual output layer\n",
        "\n",
        "# initiate Adam optimizer\n",
        "import tensorflow as tf\n",
        "import tensorflow \n",
        "\n",
        "from tensorflow import keras\n",
        "from keras.layers import Dense\n",
        "\n",
        "\n",
        "opt = keras.optimizers.Adam(learning_rate=1e-4, decay=1e-6)\n",
        "#opt = tf.python.keras.optimizers.Adam(learning_rate=1e-4, decay=1e-6) \n",
        "#opt = tf.keras.optimizers.Adam(learning_rate=1e-4, decay=1e-6)\n",
        "\n",
        "# Let's train the model \n",
        "model.compile(loss='categorical_crossentropy',\n",
        "              optimizer=opt,\n",
        "              metrics=['accuracy'])"
      ],
      "execution_count": 9,
      "outputs": []
    },
    {
      "cell_type": "code",
      "metadata": {
        "colab": {
          "base_uri": "https://localhost:8080/"
        },
        "id": "4KXUbOdac8H-",
        "outputId": "1be963c2-bfd7-47d8-bf50-7e85b22c3210"
      },
      "source": [
        "\n",
        "model.summary()\n"
      ],
      "execution_count": 10,
      "outputs": [
        {
          "output_type": "stream",
          "name": "stdout",
          "text": [
            "Model: \"sequential\"\n",
            "_________________________________________________________________\n",
            "Layer (type)                 Output Shape              Param #   \n",
            "=================================================================\n",
            "conv2d (Conv2D)              (None, 32, 32, 32)        896       \n",
            "_________________________________________________________________\n",
            "conv2d_1 (Conv2D)            (None, 32, 32, 32)        9248      \n",
            "_________________________________________________________________\n",
            "max_pooling2d (MaxPooling2D) (None, 16, 16, 32)        0         \n",
            "_________________________________________________________________\n",
            "dropout (Dropout)            (None, 16, 16, 32)        0         \n",
            "_________________________________________________________________\n",
            "conv2d_2 (Conv2D)            (None, 16, 16, 64)        18496     \n",
            "_________________________________________________________________\n",
            "conv2d_3 (Conv2D)            (None, 16, 16, 128)       73856     \n",
            "_________________________________________________________________\n",
            "max_pooling2d_1 (MaxPooling2 (None, 8, 8, 128)         0         \n",
            "_________________________________________________________________\n",
            "dropout_1 (Dropout)          (None, 8, 8, 128)         0         \n",
            "_________________________________________________________________\n",
            "conv2d_4 (Conv2D)            (None, 8, 8, 64)          73792     \n",
            "_________________________________________________________________\n",
            "conv2d_5 (Conv2D)            (None, 8, 8, 64)          36928     \n",
            "_________________________________________________________________\n",
            "max_pooling2d_2 (MaxPooling2 (None, 4, 4, 64)          0         \n",
            "_________________________________________________________________\n",
            "dropout_2 (Dropout)          (None, 4, 4, 64)          0         \n",
            "_________________________________________________________________\n",
            "flatten (Flatten)            (None, 1024)              0         \n",
            "_________________________________________________________________\n",
            "dense (Dense)                (None, 512)               524800    \n",
            "_________________________________________________________________\n",
            "dropout_3 (Dropout)          (None, 512)               0         \n",
            "_________________________________________________________________\n",
            "dense_1 (Dense)              (None, 64)                32832     \n",
            "_________________________________________________________________\n",
            "dropout_4 (Dropout)          (None, 64)                0         \n",
            "_________________________________________________________________\n",
            "dense_2 (Dense)              (None, 10)                650       \n",
            "=================================================================\n",
            "Total params: 771,498\n",
            "Trainable params: 771,498\n",
            "Non-trainable params: 0\n",
            "_________________________________________________________________\n"
          ]
        }
      ]
    },
    {
      "cell_type": "code",
      "metadata": {
        "colab": {
          "base_uri": "https://localhost:8080/"
        },
        "id": "Afga4dLQcqeC",
        "outputId": "e9b9eeec-124d-4550-edfd-b5878afd1dd0"
      },
      "source": [
        "start_time=timer(None)\n",
        "result = model.fit(\n",
        "    xtrain,\n",
        "    ytrain,\n",
        "    validation_split=0.1,    \n",
        "    verbose=True,\n",
        "    epochs=125,\n",
        "    steps_per_epoch= 64,\n",
        "    batch_size=512\n",
        "    )\n",
        "timer(start_time)"
      ],
      "execution_count": 11,
      "outputs": [
        {
          "output_type": "stream",
          "name": "stdout",
          "text": [
            "2021-10-03 20:55:58.643610\n",
            "Epoch 1/125\n",
            "64/64 [==============================] - 40s 109ms/step - loss: 2.2246 - accuracy: 0.1590 - val_loss: 2.0554 - val_accuracy: 0.2556\n",
            "Epoch 2/125\n",
            "64/64 [==============================] - 7s 112ms/step - loss: 2.0119 - accuracy: 0.2531 - val_loss: 1.8841 - val_accuracy: 0.3168\n",
            "Epoch 3/125\n",
            "64/64 [==============================] - 6s 95ms/step - loss: 1.8804 - accuracy: 0.3080 - val_loss: 1.7692 - val_accuracy: 0.3546\n",
            "Epoch 4/125\n",
            "64/64 [==============================] - 6s 95ms/step - loss: 1.7916 - accuracy: 0.3454 - val_loss: 1.6659 - val_accuracy: 0.3878\n",
            "Epoch 5/125\n",
            "64/64 [==============================] - 6s 95ms/step - loss: 1.7273 - accuracy: 0.3677 - val_loss: 1.6072 - val_accuracy: 0.4166\n",
            "Epoch 6/125\n",
            "64/64 [==============================] - 6s 95ms/step - loss: 1.6643 - accuracy: 0.3929 - val_loss: 1.5516 - val_accuracy: 0.4314\n",
            "Epoch 7/125\n",
            "64/64 [==============================] - 6s 95ms/step - loss: 1.6322 - accuracy: 0.4018 - val_loss: 1.5402 - val_accuracy: 0.4358\n",
            "Epoch 8/125\n",
            "64/64 [==============================] - 6s 95ms/step - loss: 1.5948 - accuracy: 0.4159 - val_loss: 1.4780 - val_accuracy: 0.4624\n",
            "Epoch 9/125\n",
            "64/64 [==============================] - 6s 95ms/step - loss: 1.5656 - accuracy: 0.4268 - val_loss: 1.4496 - val_accuracy: 0.4736\n",
            "Epoch 10/125\n",
            "64/64 [==============================] - 6s 95ms/step - loss: 1.5286 - accuracy: 0.4419 - val_loss: 1.4221 - val_accuracy: 0.4792\n",
            "Epoch 11/125\n",
            "64/64 [==============================] - 6s 95ms/step - loss: 1.5198 - accuracy: 0.4465 - val_loss: 1.4203 - val_accuracy: 0.4874\n",
            "Epoch 12/125\n",
            "64/64 [==============================] - 6s 96ms/step - loss: 1.4834 - accuracy: 0.4626 - val_loss: 1.3962 - val_accuracy: 0.4908\n",
            "Epoch 13/125\n",
            "64/64 [==============================] - 6s 95ms/step - loss: 1.4618 - accuracy: 0.4676 - val_loss: 1.3350 - val_accuracy: 0.5202\n",
            "Epoch 14/125\n",
            "64/64 [==============================] - 6s 95ms/step - loss: 1.4363 - accuracy: 0.4785 - val_loss: 1.3295 - val_accuracy: 0.5190\n",
            "Epoch 15/125\n",
            "64/64 [==============================] - 6s 95ms/step - loss: 1.4133 - accuracy: 0.4904 - val_loss: 1.3201 - val_accuracy: 0.5260\n",
            "Epoch 16/125\n",
            "64/64 [==============================] - 6s 95ms/step - loss: 1.3923 - accuracy: 0.4977 - val_loss: 1.2924 - val_accuracy: 0.5384\n",
            "Epoch 17/125\n",
            "64/64 [==============================] - 6s 95ms/step - loss: 1.3693 - accuracy: 0.5082 - val_loss: 1.2992 - val_accuracy: 0.5316\n",
            "Epoch 18/125\n",
            "64/64 [==============================] - 6s 95ms/step - loss: 1.3520 - accuracy: 0.5136 - val_loss: 1.2456 - val_accuracy: 0.5548\n",
            "Epoch 19/125\n",
            "64/64 [==============================] - 6s 95ms/step - loss: 1.3214 - accuracy: 0.5263 - val_loss: 1.2261 - val_accuracy: 0.5606\n",
            "Epoch 20/125\n",
            "64/64 [==============================] - 6s 95ms/step - loss: 1.3112 - accuracy: 0.5314 - val_loss: 1.2071 - val_accuracy: 0.5694\n",
            "Epoch 21/125\n",
            "64/64 [==============================] - 6s 95ms/step - loss: 1.2969 - accuracy: 0.5341 - val_loss: 1.1768 - val_accuracy: 0.5804\n",
            "Epoch 22/125\n",
            "64/64 [==============================] - 6s 96ms/step - loss: 1.2829 - accuracy: 0.5401 - val_loss: 1.1872 - val_accuracy: 0.5778\n",
            "Epoch 23/125\n",
            "64/64 [==============================] - 6s 96ms/step - loss: 1.2631 - accuracy: 0.5480 - val_loss: 1.1500 - val_accuracy: 0.5914\n",
            "Epoch 24/125\n",
            "64/64 [==============================] - 6s 96ms/step - loss: 1.2483 - accuracy: 0.5530 - val_loss: 1.1245 - val_accuracy: 0.6072\n",
            "Epoch 25/125\n",
            "64/64 [==============================] - 6s 95ms/step - loss: 1.2253 - accuracy: 0.5634 - val_loss: 1.1392 - val_accuracy: 0.5940\n",
            "Epoch 26/125\n",
            "64/64 [==============================] - 6s 96ms/step - loss: 1.2255 - accuracy: 0.5593 - val_loss: 1.1104 - val_accuracy: 0.6172\n",
            "Epoch 27/125\n",
            "64/64 [==============================] - 6s 96ms/step - loss: 1.2009 - accuracy: 0.5716 - val_loss: 1.0901 - val_accuracy: 0.6206\n",
            "Epoch 28/125\n",
            "64/64 [==============================] - 6s 95ms/step - loss: 1.1836 - accuracy: 0.5781 - val_loss: 1.0746 - val_accuracy: 0.6248\n",
            "Epoch 29/125\n",
            "64/64 [==============================] - 6s 95ms/step - loss: 1.1819 - accuracy: 0.5772 - val_loss: 1.0811 - val_accuracy: 0.6194\n",
            "Epoch 30/125\n",
            "64/64 [==============================] - 6s 96ms/step - loss: 1.1621 - accuracy: 0.5830 - val_loss: 1.0481 - val_accuracy: 0.6358\n",
            "Epoch 31/125\n",
            "64/64 [==============================] - 6s 95ms/step - loss: 1.1494 - accuracy: 0.5908 - val_loss: 1.0717 - val_accuracy: 0.6258\n",
            "Epoch 32/125\n",
            "64/64 [==============================] - 6s 97ms/step - loss: 1.1441 - accuracy: 0.5942 - val_loss: 1.0321 - val_accuracy: 0.6440\n",
            "Epoch 33/125\n",
            "64/64 [==============================] - 6s 96ms/step - loss: 1.1361 - accuracy: 0.5964 - val_loss: 1.0386 - val_accuracy: 0.6364\n",
            "Epoch 34/125\n",
            "64/64 [==============================] - 6s 97ms/step - loss: 1.1048 - accuracy: 0.6064 - val_loss: 1.0143 - val_accuracy: 0.6396\n",
            "Epoch 35/125\n",
            "64/64 [==============================] - 6s 96ms/step - loss: 1.1074 - accuracy: 0.6075 - val_loss: 1.0206 - val_accuracy: 0.6438\n",
            "Epoch 36/125\n",
            "64/64 [==============================] - 6s 95ms/step - loss: 1.0972 - accuracy: 0.6138 - val_loss: 0.9994 - val_accuracy: 0.6546\n",
            "Epoch 37/125\n",
            "64/64 [==============================] - 6s 96ms/step - loss: 1.0864 - accuracy: 0.6140 - val_loss: 1.0212 - val_accuracy: 0.6426\n",
            "Epoch 38/125\n",
            "64/64 [==============================] - 6s 95ms/step - loss: 1.0655 - accuracy: 0.6249 - val_loss: 0.9789 - val_accuracy: 0.6566\n",
            "Epoch 39/125\n",
            "64/64 [==============================] - 6s 95ms/step - loss: 1.0605 - accuracy: 0.6240 - val_loss: 0.9711 - val_accuracy: 0.6610\n",
            "Epoch 40/125\n",
            "64/64 [==============================] - 6s 96ms/step - loss: 1.0573 - accuracy: 0.6261 - val_loss: 0.9655 - val_accuracy: 0.6640\n",
            "Epoch 41/125\n",
            "64/64 [==============================] - 6s 96ms/step - loss: 1.0497 - accuracy: 0.6311 - val_loss: 0.9431 - val_accuracy: 0.6716\n",
            "Epoch 42/125\n",
            "64/64 [==============================] - 6s 96ms/step - loss: 1.0371 - accuracy: 0.6343 - val_loss: 0.9383 - val_accuracy: 0.6686\n",
            "Epoch 43/125\n",
            "64/64 [==============================] - 6s 96ms/step - loss: 1.0219 - accuracy: 0.6418 - val_loss: 0.9341 - val_accuracy: 0.6748\n",
            "Epoch 44/125\n",
            "64/64 [==============================] - 6s 96ms/step - loss: 1.0182 - accuracy: 0.6409 - val_loss: 0.9331 - val_accuracy: 0.6744\n",
            "Epoch 45/125\n",
            "64/64 [==============================] - 6s 96ms/step - loss: 1.0072 - accuracy: 0.6439 - val_loss: 0.9168 - val_accuracy: 0.6808\n",
            "Epoch 46/125\n",
            "64/64 [==============================] - 6s 96ms/step - loss: 0.9948 - accuracy: 0.6457 - val_loss: 0.9195 - val_accuracy: 0.6772\n",
            "Epoch 47/125\n",
            "64/64 [==============================] - 6s 97ms/step - loss: 1.0024 - accuracy: 0.6444 - val_loss: 0.9304 - val_accuracy: 0.6796\n",
            "Epoch 48/125\n",
            "64/64 [==============================] - 6s 96ms/step - loss: 0.9802 - accuracy: 0.6548 - val_loss: 0.8919 - val_accuracy: 0.6906\n",
            "Epoch 49/125\n",
            "64/64 [==============================] - 6s 96ms/step - loss: 0.9691 - accuracy: 0.6595 - val_loss: 0.8991 - val_accuracy: 0.6884\n",
            "Epoch 50/125\n",
            "64/64 [==============================] - 6s 96ms/step - loss: 0.9707 - accuracy: 0.6578 - val_loss: 0.8877 - val_accuracy: 0.6904\n",
            "Epoch 51/125\n",
            "64/64 [==============================] - 6s 96ms/step - loss: 0.9598 - accuracy: 0.6610 - val_loss: 0.8859 - val_accuracy: 0.6894\n",
            "Epoch 52/125\n",
            "64/64 [==============================] - 6s 96ms/step - loss: 0.9563 - accuracy: 0.6643 - val_loss: 0.8736 - val_accuracy: 0.6998\n",
            "Epoch 53/125\n",
            "64/64 [==============================] - 6s 96ms/step - loss: 0.9510 - accuracy: 0.6655 - val_loss: 0.8712 - val_accuracy: 0.6994\n",
            "Epoch 54/125\n",
            "64/64 [==============================] - 6s 96ms/step - loss: 0.9357 - accuracy: 0.6729 - val_loss: 0.8618 - val_accuracy: 0.7032\n",
            "Epoch 55/125\n",
            "64/64 [==============================] - 6s 95ms/step - loss: 0.9333 - accuracy: 0.6693 - val_loss: 0.8733 - val_accuracy: 0.6994\n",
            "Epoch 56/125\n",
            "64/64 [==============================] - 6s 96ms/step - loss: 0.9260 - accuracy: 0.6729 - val_loss: 0.8637 - val_accuracy: 0.7054\n",
            "Epoch 57/125\n",
            "64/64 [==============================] - 6s 96ms/step - loss: 0.9217 - accuracy: 0.6718 - val_loss: 0.8547 - val_accuracy: 0.7012\n",
            "Epoch 58/125\n",
            "64/64 [==============================] - 6s 96ms/step - loss: 0.9150 - accuracy: 0.6803 - val_loss: 0.8398 - val_accuracy: 0.7136\n",
            "Epoch 59/125\n",
            "64/64 [==============================] - 6s 95ms/step - loss: 0.9028 - accuracy: 0.6856 - val_loss: 0.8497 - val_accuracy: 0.7086\n",
            "Epoch 60/125\n",
            "64/64 [==============================] - 6s 96ms/step - loss: 0.9076 - accuracy: 0.6804 - val_loss: 0.8309 - val_accuracy: 0.7142\n",
            "Epoch 61/125\n",
            "64/64 [==============================] - 6s 96ms/step - loss: 0.8925 - accuracy: 0.6874 - val_loss: 0.8384 - val_accuracy: 0.7094\n",
            "Epoch 62/125\n",
            "64/64 [==============================] - 6s 96ms/step - loss: 0.8869 - accuracy: 0.6882 - val_loss: 0.8287 - val_accuracy: 0.7186\n",
            "Epoch 63/125\n",
            "64/64 [==============================] - 6s 96ms/step - loss: 0.8852 - accuracy: 0.6895 - val_loss: 0.8306 - val_accuracy: 0.7126\n",
            "Epoch 64/125\n",
            "64/64 [==============================] - 6s 96ms/step - loss: 0.8635 - accuracy: 0.6976 - val_loss: 0.8272 - val_accuracy: 0.7162\n",
            "Epoch 65/125\n",
            "64/64 [==============================] - 6s 95ms/step - loss: 0.8671 - accuracy: 0.6956 - val_loss: 0.8094 - val_accuracy: 0.7232\n",
            "Epoch 66/125\n",
            "64/64 [==============================] - 6s 96ms/step - loss: 0.8646 - accuracy: 0.6977 - val_loss: 0.8151 - val_accuracy: 0.7216\n",
            "Epoch 67/125\n",
            "64/64 [==============================] - 6s 96ms/step - loss: 0.8584 - accuracy: 0.6990 - val_loss: 0.8119 - val_accuracy: 0.7240\n",
            "Epoch 68/125\n",
            "64/64 [==============================] - 6s 96ms/step - loss: 0.8500 - accuracy: 0.6995 - val_loss: 0.7992 - val_accuracy: 0.7238\n",
            "Epoch 69/125\n",
            "64/64 [==============================] - 6s 96ms/step - loss: 0.8442 - accuracy: 0.7058 - val_loss: 0.7875 - val_accuracy: 0.7320\n",
            "Epoch 70/125\n",
            "64/64 [==============================] - 6s 96ms/step - loss: 0.8453 - accuracy: 0.7019 - val_loss: 0.7958 - val_accuracy: 0.7278\n",
            "Epoch 71/125\n",
            "64/64 [==============================] - 6s 96ms/step - loss: 0.8340 - accuracy: 0.7080 - val_loss: 0.8058 - val_accuracy: 0.7206\n",
            "Epoch 72/125\n",
            "64/64 [==============================] - 6s 96ms/step - loss: 0.8215 - accuracy: 0.7132 - val_loss: 0.7866 - val_accuracy: 0.7306\n",
            "Epoch 73/125\n",
            "64/64 [==============================] - 6s 96ms/step - loss: 0.8212 - accuracy: 0.7104 - val_loss: 0.7908 - val_accuracy: 0.7272\n",
            "Epoch 74/125\n",
            "64/64 [==============================] - 6s 96ms/step - loss: 0.8139 - accuracy: 0.7155 - val_loss: 0.7747 - val_accuracy: 0.7328\n",
            "Epoch 75/125\n",
            "64/64 [==============================] - 6s 96ms/step - loss: 0.8189 - accuracy: 0.7130 - val_loss: 0.7905 - val_accuracy: 0.7268\n",
            "Epoch 76/125\n",
            "64/64 [==============================] - 6s 96ms/step - loss: 0.8098 - accuracy: 0.7188 - val_loss: 0.7766 - val_accuracy: 0.7328\n",
            "Epoch 77/125\n",
            "64/64 [==============================] - 6s 96ms/step - loss: 0.8050 - accuracy: 0.7154 - val_loss: 0.7743 - val_accuracy: 0.7330\n",
            "Epoch 78/125\n",
            "64/64 [==============================] - 6s 96ms/step - loss: 0.7903 - accuracy: 0.7255 - val_loss: 0.7732 - val_accuracy: 0.7322\n",
            "Epoch 79/125\n",
            "64/64 [==============================] - 6s 95ms/step - loss: 0.8005 - accuracy: 0.7212 - val_loss: 0.7696 - val_accuracy: 0.7344\n",
            "Epoch 80/125\n",
            "64/64 [==============================] - 6s 96ms/step - loss: 0.7790 - accuracy: 0.7277 - val_loss: 0.7521 - val_accuracy: 0.7388\n",
            "Epoch 81/125\n",
            "64/64 [==============================] - 6s 96ms/step - loss: 0.7818 - accuracy: 0.7249 - val_loss: 0.7451 - val_accuracy: 0.7452\n",
            "Epoch 82/125\n",
            "64/64 [==============================] - 6s 96ms/step - loss: 0.7725 - accuracy: 0.7290 - val_loss: 0.7527 - val_accuracy: 0.7394\n",
            "Epoch 83/125\n",
            "64/64 [==============================] - 6s 96ms/step - loss: 0.7639 - accuracy: 0.7333 - val_loss: 0.7520 - val_accuracy: 0.7396\n",
            "Epoch 84/125\n",
            "64/64 [==============================] - 6s 96ms/step - loss: 0.7732 - accuracy: 0.7271 - val_loss: 0.7561 - val_accuracy: 0.7386\n",
            "Epoch 85/125\n",
            "64/64 [==============================] - 6s 96ms/step - loss: 0.7673 - accuracy: 0.7301 - val_loss: 0.7462 - val_accuracy: 0.7438\n",
            "Epoch 86/125\n",
            "64/64 [==============================] - 6s 95ms/step - loss: 0.7505 - accuracy: 0.7350 - val_loss: 0.7511 - val_accuracy: 0.7358\n",
            "Epoch 87/125\n",
            "64/64 [==============================] - 6s 96ms/step - loss: 0.7531 - accuracy: 0.7367 - val_loss: 0.7293 - val_accuracy: 0.7488\n",
            "Epoch 88/125\n",
            "64/64 [==============================] - 6s 96ms/step - loss: 0.7501 - accuracy: 0.7359 - val_loss: 0.7341 - val_accuracy: 0.7474\n",
            "Epoch 89/125\n",
            "64/64 [==============================] - 6s 96ms/step - loss: 0.7470 - accuracy: 0.7393 - val_loss: 0.7263 - val_accuracy: 0.7520\n",
            "Epoch 90/125\n",
            "64/64 [==============================] - 6s 95ms/step - loss: 0.7305 - accuracy: 0.7443 - val_loss: 0.7242 - val_accuracy: 0.7512\n",
            "Epoch 91/125\n",
            "64/64 [==============================] - 6s 96ms/step - loss: 0.7302 - accuracy: 0.7436 - val_loss: 0.7367 - val_accuracy: 0.7470\n",
            "Epoch 92/125\n",
            "64/64 [==============================] - 6s 96ms/step - loss: 0.7306 - accuracy: 0.7421 - val_loss: 0.7194 - val_accuracy: 0.7524\n",
            "Epoch 93/125\n",
            "64/64 [==============================] - 6s 97ms/step - loss: 0.7190 - accuracy: 0.7485 - val_loss: 0.7183 - val_accuracy: 0.7564\n",
            "Epoch 94/125\n",
            "64/64 [==============================] - 6s 95ms/step - loss: 0.7202 - accuracy: 0.7470 - val_loss: 0.7126 - val_accuracy: 0.7570\n",
            "Epoch 95/125\n",
            "64/64 [==============================] - 6s 95ms/step - loss: 0.7111 - accuracy: 0.7518 - val_loss: 0.7071 - val_accuracy: 0.7586\n",
            "Epoch 96/125\n",
            "64/64 [==============================] - 6s 96ms/step - loss: 0.7110 - accuracy: 0.7514 - val_loss: 0.7305 - val_accuracy: 0.7474\n",
            "Epoch 97/125\n",
            "64/64 [==============================] - 6s 95ms/step - loss: 0.6993 - accuracy: 0.7558 - val_loss: 0.7012 - val_accuracy: 0.7580\n",
            "Epoch 98/125\n",
            "64/64 [==============================] - 6s 95ms/step - loss: 0.7054 - accuracy: 0.7528 - val_loss: 0.7257 - val_accuracy: 0.7468\n",
            "Epoch 99/125\n",
            "64/64 [==============================] - 6s 95ms/step - loss: 0.7030 - accuracy: 0.7539 - val_loss: 0.7171 - val_accuracy: 0.7526\n",
            "Epoch 100/125\n",
            "64/64 [==============================] - 6s 96ms/step - loss: 0.6916 - accuracy: 0.7593 - val_loss: 0.7017 - val_accuracy: 0.7590\n",
            "Epoch 101/125\n",
            "64/64 [==============================] - 6s 96ms/step - loss: 0.6920 - accuracy: 0.7582 - val_loss: 0.7090 - val_accuracy: 0.7558\n",
            "Epoch 102/125\n",
            "64/64 [==============================] - 6s 96ms/step - loss: 0.6860 - accuracy: 0.7598 - val_loss: 0.6956 - val_accuracy: 0.7642\n",
            "Epoch 103/125\n",
            "64/64 [==============================] - 6s 96ms/step - loss: 0.6710 - accuracy: 0.7650 - val_loss: 0.6935 - val_accuracy: 0.7624\n",
            "Epoch 104/125\n",
            "64/64 [==============================] - 6s 95ms/step - loss: 0.6782 - accuracy: 0.7610 - val_loss: 0.6915 - val_accuracy: 0.7624\n",
            "Epoch 105/125\n",
            "64/64 [==============================] - 6s 96ms/step - loss: 0.6682 - accuracy: 0.7664 - val_loss: 0.6978 - val_accuracy: 0.7612\n",
            "Epoch 106/125\n",
            "64/64 [==============================] - 6s 96ms/step - loss: 0.6563 - accuracy: 0.7689 - val_loss: 0.6903 - val_accuracy: 0.7620\n",
            "Epoch 107/125\n",
            "64/64 [==============================] - 6s 96ms/step - loss: 0.6640 - accuracy: 0.7677 - val_loss: 0.6835 - val_accuracy: 0.7648\n",
            "Epoch 108/125\n",
            "64/64 [==============================] - 6s 96ms/step - loss: 0.6624 - accuracy: 0.7707 - val_loss: 0.6865 - val_accuracy: 0.7602\n",
            "Epoch 109/125\n",
            "64/64 [==============================] - 6s 96ms/step - loss: 0.6464 - accuracy: 0.7723 - val_loss: 0.6682 - val_accuracy: 0.7706\n",
            "Epoch 110/125\n",
            "64/64 [==============================] - 6s 95ms/step - loss: 0.6537 - accuracy: 0.7703 - val_loss: 0.6960 - val_accuracy: 0.7640\n",
            "Epoch 111/125\n",
            "64/64 [==============================] - 6s 96ms/step - loss: 0.6376 - accuracy: 0.7755 - val_loss: 0.6736 - val_accuracy: 0.7696\n",
            "Epoch 112/125\n",
            "64/64 [==============================] - 6s 95ms/step - loss: 0.6339 - accuracy: 0.7771 - val_loss: 0.6746 - val_accuracy: 0.7664\n",
            "Epoch 113/125\n",
            "64/64 [==============================] - 6s 96ms/step - loss: 0.6312 - accuracy: 0.7779 - val_loss: 0.6737 - val_accuracy: 0.7682\n",
            "Epoch 114/125\n",
            "64/64 [==============================] - 6s 97ms/step - loss: 0.6352 - accuracy: 0.7769 - val_loss: 0.6711 - val_accuracy: 0.7698\n",
            "Epoch 115/125\n",
            "64/64 [==============================] - 6s 95ms/step - loss: 0.6311 - accuracy: 0.7778 - val_loss: 0.6702 - val_accuracy: 0.7702\n",
            "Epoch 116/125\n",
            "64/64 [==============================] - 6s 96ms/step - loss: 0.6280 - accuracy: 0.7774 - val_loss: 0.6611 - val_accuracy: 0.7714\n",
            "Epoch 117/125\n",
            "64/64 [==============================] - 6s 96ms/step - loss: 0.6161 - accuracy: 0.7843 - val_loss: 0.6633 - val_accuracy: 0.7690\n",
            "Epoch 118/125\n",
            "64/64 [==============================] - 6s 95ms/step - loss: 0.6151 - accuracy: 0.7831 - val_loss: 0.6795 - val_accuracy: 0.7656\n",
            "Epoch 119/125\n",
            "64/64 [==============================] - 6s 95ms/step - loss: 0.6052 - accuracy: 0.7860 - val_loss: 0.6625 - val_accuracy: 0.7730\n",
            "Epoch 120/125\n",
            "64/64 [==============================] - 6s 96ms/step - loss: 0.6112 - accuracy: 0.7848 - val_loss: 0.6658 - val_accuracy: 0.7726\n",
            "Epoch 121/125\n",
            "64/64 [==============================] - 6s 96ms/step - loss: 0.6003 - accuracy: 0.7874 - val_loss: 0.6586 - val_accuracy: 0.7736\n",
            "Epoch 122/125\n",
            "64/64 [==============================] - 6s 96ms/step - loss: 0.5947 - accuracy: 0.7900 - val_loss: 0.6650 - val_accuracy: 0.7712\n",
            "Epoch 123/125\n",
            "64/64 [==============================] - 6s 96ms/step - loss: 0.5892 - accuracy: 0.7925 - val_loss: 0.6648 - val_accuracy: 0.7748\n",
            "Epoch 124/125\n",
            "64/64 [==============================] - 6s 96ms/step - loss: 0.5940 - accuracy: 0.7911 - val_loss: 0.6637 - val_accuracy: 0.7732\n",
            "Epoch 125/125\n",
            "64/64 [==============================] - 6s 97ms/step - loss: 0.5902 - accuracy: 0.7932 - val_loss: 0.6460 - val_accuracy: 0.7776\n",
            "Time taken: 0 hours 13 minutes and 23.97 seconds.\n"
          ]
        }
      ]
    },
    {
      "cell_type": "code",
      "metadata": {
        "colab": {
          "base_uri": "https://localhost:8080/",
          "height": 621
        },
        "id": "wH4JR_E6ewib",
        "outputId": "55e992b4-6246-4ae1-e949-cc41a63f6665"
      },
      "source": [
        "plt.figure(figsize=(20, 10))\n",
        "plt.subplot(1, 2, 1)\n",
        "plt.title(\"CNN Training and Validation Accuracy\")\n",
        "plt.plot(result.history[\"accuracy\"], label='Training Accuracy')\n",
        "plt.plot(result.history['val_accuracy'], label='Validation Accuracy')\n",
        "plt.legend(loc='lower right')\n",
        "plt.ylabel('accuracy')\n",
        "plt.xlabel('epoch')\n",
        "plt.subplot(1, 2, 2)\n",
        "plt.plot( result.history[\"loss\"], label='Training Loss')\n",
        "plt.plot( result.history[\"val_loss\"], label='Validation Loss')\n",
        "plt.legend(loc='upper right')\n",
        "plt.title('CNN Training and Validation Loss')\n",
        "plt.ylabel('loss')\n",
        "plt.xlabel('epoch')\n",
        "plt.show()"
      ],
      "execution_count": 12,
      "outputs": [
        {
          "output_type": "display_data",
          "data": {
            "image/png": "[encoded data removed]",
            "text/plain": [
              "<Figure size 1440x720 with 2 Axes>"
            ]
          },
          "metadata": {
            "needs_background": "light"
          }
        }
      ]
    },
    {
      "cell_type": "code",
      "metadata": {
        "colab": {
          "base_uri": "https://localhost:8080/"
        },
        "id": "w1hbYSKOfFM3",
        "outputId": "c6cef07c-d9a6-4308-a061-23800878b9c3"
      },
      "source": [
        "scores = model.evaluate(xtest, ytest, verbose=1) \n",
        "print('Test loss:', scores[0])\n",
        "print('Test accuracy:', scores[1])"
      ],
      "execution_count": 13,
      "outputs": [
        {
          "output_type": "stream",
          "name": "stdout",
          "text": [
            "313/313 [==============================] - 2s 7ms/step - loss: 0.6775 - accuracy: 0.7667\n",
            "Test loss: 0.6775144338607788\n",
            "Test accuracy: 0.766700029373169\n"
          ]
        }
      ]
    },
    {
      "cell_type": "markdown",
      "metadata": {
        "id": "FvEb-IQNh1-0"
      },
      "source": [
        "Result:\n",
        "\n",
        "So the model's final Training Accuracy is 80%\n",
        "\n",
        "Validation Accuracy is 78%\n",
        "\n",
        "Testing Accuracy is 77%\n"
      ]
    },
    {
      "cell_type": "code",
      "metadata": {
        "id": "B4Xn81xc_oqy"
      },
      "source": [
        ""
      ],
      "execution_count": null,
      "outputs": []
    }
  ]
}